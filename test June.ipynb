{
 "cells": [
  {
   "cell_type": "markdown",
   "metadata": {},
   "source": [
    "# Dummy Yolo Model"
   ]
  },
  {
   "cell_type": "code",
   "execution_count": 2,
   "metadata": {},
   "outputs": [
    {
     "name": "stdout",
     "output_type": "stream",
     "text": [
      "ultralytics.engine.results.Results object with attributes:\n",
      "\n",
      "boxes: ultralytics.engine.results.Boxes object\n",
      "keypoints: None\n",
      "masks: None\n",
      "names: {0: 'person', 1: 'bicycle', 2: 'car', 3: 'motorcycle', 4: 'airplane', 5: 'bus', 6: 'train', 7: 'truck', 8: 'boat', 9: 'traffic light', 10: 'fire hydrant', 11: 'stop sign', 12: 'parking meter', 13: 'bench', 14: 'bird', 15: 'cat', 16: 'dog', 17: 'horse', 18: 'sheep', 19: 'cow', 20: 'elephant', 21: 'bear', 22: 'zebra', 23: 'giraffe', 24: 'backpack', 25: 'umbrella', 26: 'handbag', 27: 'tie', 28: 'suitcase', 29: 'frisbee', 30: 'skis', 31: 'snowboard', 32: 'sports ball', 33: 'kite', 34: 'baseball bat', 35: 'baseball glove', 36: 'skateboard', 37: 'surfboard', 38: 'tennis racket', 39: 'bottle', 40: 'wine glass', 41: 'cup', 42: 'fork', 43: 'knife', 44: 'spoon', 45: 'bowl', 46: 'banana', 47: 'apple', 48: 'sandwich', 49: 'orange', 50: 'broccoli', 51: 'carrot', 52: 'hot dog', 53: 'pizza', 54: 'donut', 55: 'cake', 56: 'chair', 57: 'couch', 58: 'potted plant', 59: 'bed', 60: 'dining table', 61: 'toilet', 62: 'tv', 63: 'laptop', 64: 'mouse', 65: 'remote', 66: 'keyboard', 67: 'cell phone', 68: 'microwave', 69: 'oven', 70: 'toaster', 71: 'sink', 72: 'refrigerator', 73: 'book', 74: 'clock', 75: 'vase', 76: 'scissors', 77: 'teddy bear', 78: 'hair drier', 79: 'toothbrush'}\n",
      "obb: None\n",
      "orig_img: array([[[ 84,  89,  89],\n",
      "        [ 97, 102, 102],\n",
      "        [110, 115, 115],\n",
      "        ...,\n",
      "        [ 55,  45,  47],\n",
      "        [ 55,  45,  47],\n",
      "        [ 49,  39,  41]],\n",
      "\n",
      "       [[107, 112, 112],\n",
      "        [109, 114, 114],\n",
      "        [103, 108, 108],\n",
      "        ...,\n",
      "        [ 61,  51,  53],\n",
      "        [ 61,  51,  53],\n",
      "        [ 55,  45,  47]],\n",
      "\n",
      "       [[112, 117, 117],\n",
      "        [103, 108, 108],\n",
      "        [ 93,  98,  98],\n",
      "        ...,\n",
      "        [ 61,  51,  53],\n",
      "        [ 61,  51,  53],\n",
      "        [ 55,  45,  47]],\n",
      "\n",
      "       ...,\n",
      "\n",
      "       [[ 86, 100,  87],\n",
      "        [ 86, 100,  87],\n",
      "        [ 86, 100,  87],\n",
      "        ...,\n",
      "        [ 54,  37,  58],\n",
      "        [ 45,  26,  52],\n",
      "        [ 42,  23,  49]],\n",
      "\n",
      "       [[ 86, 100,  87],\n",
      "        [ 86, 100,  87],\n",
      "        [ 86, 100,  87],\n",
      "        ...,\n",
      "        [ 48,  31,  52],\n",
      "        [ 46,  27,  53],\n",
      "        [ 48,  29,  55]],\n",
      "\n",
      "       [[ 86, 100,  87],\n",
      "        [ 86, 100,  87],\n",
      "        [ 86, 100,  87],\n",
      "        ...,\n",
      "        [ 42,  25,  46],\n",
      "        [ 60,  41,  67],\n",
      "        [ 58,  39,  65]]], dtype=uint8)\n",
      "orig_shape: (480, 848)\n",
      "path: '/home/julianzu/Analytics/Ultilitycs/test 08 may/input_videos/drone trimmed.mp4'\n",
      "probs: None\n",
      "save_dir: 'runs/detect/predict16'\n",
      "speed: {'preprocess': 100.62646865844727, 'inference': 632.8897476196289, 'postprocess': 26.412487030029297}\n",
      "==================================\n",
      "ultralytics.engine.results.Boxes object with attributes:\n",
      "\n",
      "cls: tensor([0.])\n",
      "conf: tensor([0.3582])\n",
      "data: tensor([[ 72.0286, 208.0255,  83.5129, 229.3109,   0.3582,   0.0000]])\n",
      "id: None\n",
      "is_track: False\n",
      "orig_shape: (480, 848)\n",
      "shape: torch.Size([1, 6])\n",
      "xywh: tensor([[ 77.7708, 218.6682,  11.4844,  21.2855]])\n",
      "xywhn: tensor([[0.0917, 0.4556, 0.0135, 0.0443]])\n",
      "xyxy: tensor([[ 72.0286, 208.0255,  83.5129, 229.3109]])\n",
      "xyxyn: tensor([[0.0849, 0.4334, 0.0985, 0.4777]])\n",
      "ultralytics.engine.results.Boxes object with attributes:\n",
      "\n",
      "cls: tensor([5.])\n",
      "conf: tensor([0.3326])\n",
      "data: tensor([[3.9036e-02, 5.8192e+01, 6.0711e+01, 2.0700e+02, 3.3255e-01, 5.0000e+00]])\n",
      "id: None\n",
      "is_track: False\n",
      "orig_shape: (480, 848)\n",
      "shape: torch.Size([1, 6])\n",
      "xywh: tensor([[ 30.3749, 132.5955,  60.6717, 148.8063]])\n",
      "xywhn: tensor([[0.0358, 0.2762, 0.0715, 0.3100]])\n",
      "xyxy: tensor([[3.9036e-02, 5.8192e+01, 6.0711e+01, 2.0700e+02]])\n",
      "xyxyn: tensor([[4.6033e-05, 1.2123e-01, 7.1593e-02, 4.3125e-01]])\n",
      "ultralytics.engine.results.Boxes object with attributes:\n",
      "\n",
      "cls: tensor([0.])\n",
      "conf: tensor([0.2793])\n",
      "data: tensor([[3.8047e+02, 3.0291e+02, 3.9422e+02, 3.4411e+02, 2.7932e-01, 0.0000e+00]])\n",
      "id: None\n",
      "is_track: False\n",
      "orig_shape: (480, 848)\n",
      "shape: torch.Size([1, 6])\n",
      "xywh: tensor([[387.3414, 323.5104,  13.7504,  41.2057]])\n",
      "xywhn: tensor([[0.4568, 0.6740, 0.0162, 0.0858]])\n",
      "xyxy: tensor([[380.4662, 302.9075, 394.2166, 344.1132]])\n",
      "xyxyn: tensor([[0.4487, 0.6311, 0.4649, 0.7169]])\n"
     ]
    }
   ],
   "source": [
    "from ultralytics import YOLO\n",
    "\n",
    "model = YOLO('yolov8n')\n",
    "\n",
    "results = model.predict('/home/julianzu/Analytics/Ultilitycs/test 08 may/input_videos/drone trimmed.mp4', save = True)\n",
    "print(results[0])\n",
    "print('==================================')\n",
    "for box in results[0].boxes:\n",
    "    print(box)\n",
    "\n",
    "\n"
   ]
  },
  {
   "cell_type": "markdown",
   "metadata": {},
   "source": [
    "# Trainning"
   ]
  },
  {
   "cell_type": "code",
   "execution_count": null,
   "metadata": {},
   "outputs": [],
   "source": [
    "from roboflow import Roboflow\n",
    "rf = Roboflow(api_key=\"3205MH29k2z3u5Ejc3HU\") # THIS API KEY IS REVOKED. PLEASE USE YOUR OWN API KEY\n",
    "project = rf.workspace(\"roboflow-jvuqo\").project(\"football-players-detection-3zvbc\")\n",
    "version = project.version(1)\n",
    "dataset = version.download(\"yolov5\")"
   ]
  },
  {
   "cell_type": "code",
   "execution_count": null,
   "metadata": {},
   "outputs": [],
   "source": [
    "dataset.location"
   ]
  },
  {
   "cell_type": "code",
   "execution_count": null,
   "metadata": {},
   "outputs": [],
   "source": [
    "import shutil\n",
    "\n",
    "shutil.move('football-players-detection-1/train',\n",
    "            'football-players-detection-1/football-players-detection-1/train'\n",
    "            )\n",
    "\n",
    "shutil.move('football-players-detection-1/test',\n",
    "            'football-players-detection-1/football-players-detection-1/test'\n",
    "            )\n",
    "\n",
    "shutil.move('football-players-detection-1/valid',\n",
    "            'football-players-detection-1/football-players-detection-1/valid'\n",
    "            )"
   ]
  },
  {
   "cell_type": "code",
   "execution_count": null,
   "metadata": {},
   "outputs": [],
   "source": [
    "\n",
    "!yolo task=detect mode=train model=yolov5x.pt data={dataset.location}/data.yaml epochs=100 imgsz=640"
   ]
  },
  {
   "cell_type": "markdown",
   "metadata": {},
   "source": [
    "# Of Model"
   ]
  },
  {
   "cell_type": "code",
   "execution_count": 1,
   "metadata": {},
   "outputs": [],
   "source": [
    "import cv2\n",
    "def read_video(video_path):\n",
    "    cap = cv2.VideoCapture(video_path)\n",
    "    frames = []\n",
    "    while True:\n",
    "        ret, frame = cap.read()\n",
    "        if not ret:\n",
    "            break\n",
    "        frames.append(frame)\n",
    "    return frames\n",
    "\n",
    "def save_video(output_video_frames, output_path):\n",
    "    fourcc = cv2.VideoWriter_fourcc(*'XVID')\n",
    "    out = cv2.VideoWriter(output_path, fourcc, 24, (output_video_frames[0].shape[1], output_video_frames[0].shape[0]))\n",
    "    for frame in output_video_frames:\n",
    "        out.write(frame)\n",
    "    out.release()"
   ]
  },
  {
   "cell_type": "markdown",
   "metadata": {},
   "source": [
    "## MAIN"
   ]
  },
  {
   "cell_type": "markdown",
   "metadata": {},
   "source": [
    "### Tracker"
   ]
  },
  {
   "cell_type": "code",
   "execution_count": 2,
   "metadata": {},
   "outputs": [],
   "source": [
    "from ultralytics import YOLO\n",
    "import supervision as sv\n",
    "import cv2\n",
    "import pickle\n",
    "import os\n",
    "import sys\n"
   ]
  },
  {
   "cell_type": "code",
   "execution_count": 3,
   "metadata": {},
   "outputs": [],
   "source": [
    "#bbox utils:\n",
    "def get_center_of_bbox(bbox):\n",
    "    x1,y1,x2,y2 = bbox\n",
    "    return int((x1+x2)/2), int((y1+y2)/2)\n",
    "\n",
    "def get_bbox_width(bbox):\n",
    "    return bbox[2]-bbox[0]"
   ]
  },
  {
   "cell_type": "code",
   "execution_count": 57,
   "metadata": {},
   "outputs": [],
   "source": [
    "class Tracker:\n",
    "    def __init__(self, model_path):\n",
    "        self.model = YOLO(model_path)\n",
    "        self.tracker = sv.ByteTrack()\n",
    "\n",
    "    def detect_frames(self, frames):\n",
    "        batch_size = 20\n",
    "        detections = []\n",
    "        for i in range(0, len(frames), batch_size):\n",
    "            detections_batch = self.model.predict(frames[i:i+batch_size],conf=0.1)\n",
    "            detections += detections_batch\n",
    "        return detections\n",
    "\n",
    "    def get_object_tracks(self, frames, read_from_stub= False, stub_path = None):\n",
    "\n",
    "        if read_from_stub and stub_path is not None and os.path.exists(stub_path):\n",
    "            with open(stub_path, 'rb') as f:\n",
    "                tracks = pickle.load(f)\n",
    "            return tracks\n",
    "\n",
    "        detections = self.detect_frames(frames)\n",
    "\n",
    "        tracks = {\"players\":[]}\n",
    "\n",
    "        for frame_num, detection in enumerate(detections):\n",
    "            cls_names = detection.names\n",
    "            cls_names_inv = {v:k for k,v in cls_names.items()}\n",
    "            print(cls_names)\n",
    "\n",
    "            #convert to supervision detecton format\n",
    "            detection_supervision = sv.Detections.from_ultralytics(detection)\n",
    "\n",
    "            #track Objects\n",
    "            detection_with_tracks = self.tracker.update_with_detections(detection_supervision)\n",
    "\n",
    "            tracks['players'].append({})\n",
    "\n",
    "            for frame_detection in detection_with_tracks:\n",
    "                bbox = frame_detection[0].tolist()\n",
    "                cls_id = frame_detection[3]\n",
    "                track_id = frame_detection[4]\n",
    "\n",
    "                if cls_id == cls_names_inv['player']:\n",
    "                    tracks[\"players\"][frame_num][track_id] = {\"bbox\":bbox}\n",
    "\n",
    "        if stub_path is not None:\n",
    "            with open(stub_path, 'wb') as f:\n",
    "                pickle.dump(tracks,f)\n",
    "\n",
    "        return tracks\n",
    "\n",
    "\n",
    "    def draw_ellipse(self, frame, bbox, color, track_id):\n",
    "        y2 = int(bbox[3])\n",
    "\n",
    "        x_center, _ = get_center_of_bbox(bbox)\n",
    "        width = get_bbox_width(bbox)\n",
    "\n",
    "        cv2.ellipse(\n",
    "            frame,\n",
    "            center=(x_center,y2),\n",
    "            axes=(int(width), int(0.35*width)),\n",
    "            angle=0.0,\n",
    "            startAngle=-45,\n",
    "            endAngle=235,\n",
    "            color = color,\n",
    "            thickness=2,\n",
    "            lineType=cv2.LINE_4\n",
    "        )\n",
    "\n",
    "        rectangle_width = 40\n",
    "        rectangle_height=20\n",
    "        x1_rect = x_center - rectangle_width//2\n",
    "        x2_rect = x_center + rectangle_width//2\n",
    "        y1_rect = (y2- rectangle_height//2) +15\n",
    "        y2_rect = (y2+ rectangle_height//2) +15\n",
    "\n",
    "        if track_id is not None:\n",
    "            cv2.rectangle(frame,\n",
    "                          (int(x1_rect),int(y1_rect) ),\n",
    "                          (int(x2_rect),int(y2_rect)),\n",
    "                          color,\n",
    "                          cv2.FILLED)\n",
    "            \n",
    "            x1_text = x1_rect+12\n",
    "            if track_id > 99:\n",
    "                x1_text -=10\n",
    "            \n",
    "            cv2.putText(\n",
    "                frame,\n",
    "                f\"{track_id}\",\n",
    "                (int(x1_text),int(y1_rect+15)),\n",
    "                cv2.FONT_HERSHEY_SIMPLEX,\n",
    "                0.6,\n",
    "                (0,0,0),\n",
    "                2\n",
    "            )\n",
    "        return frame\n",
    "\n",
    "\n",
    "\n",
    "\n",
    "    def draw_annotations(self, video_frames, tracks):\n",
    "        output_video_frames = []\n",
    "        for frame_num, frame in enumerate(video_frames):\n",
    "            frame = frame.copy()\n",
    "\n",
    "            player_dict = tracks[\"players\"][frame_num]\n",
    "\n",
    "            # Draw Players\n",
    "            for track_id, player in player_dict.items():\n",
    "                color = player.get(\"team_color\",(0,0,255))\n",
    "                frame = self.draw_ellipse(frame, player[\"bbox\"],color, track_id)\n",
    "\n",
    "\n",
    "\n",
    "            output_video_frames.append(frame)\n",
    "\n",
    "        return output_video_frames\n"
   ]
  },
  {
   "cell_type": "code",
   "execution_count": 66,
   "metadata": {},
   "outputs": [
    {
     "ename": "NameError",
     "evalue": "name 'player_dict' is not defined",
     "output_type": "error",
     "traceback": [
      "\u001b[0;31m---------------------------------------------------------------------------\u001b[0m",
      "\u001b[0;31mNameError\u001b[0m                                 Traceback (most recent call last)",
      "Cell \u001b[0;32mIn[66], line 1\u001b[0m\n\u001b[0;32m----> 1\u001b[0m \u001b[38;5;28mprint\u001b[39m(\u001b[43mplayer_dict\u001b[49m)\n",
      "\u001b[0;31mNameError\u001b[0m: name 'player_dict' is not defined"
     ]
    }
   ],
   "source": [
    "print(player_dict)"
   ]
  },
  {
   "cell_type": "markdown",
   "metadata": {},
   "source": [
    "# MAIN"
   ]
  },
  {
   "cell_type": "code",
   "execution_count": 65,
   "metadata": {},
   "outputs": [],
   "source": [
    "# READ video:\n",
    "video_frames = read_video('/home/julianzu/Analytics/Ultilitycs/test 08 may/input_videos/drone trimmed.mp4')\n",
    "\n",
    "\n",
    "\n",
    "\n",
    "#initialize Tracker\n",
    "tracker = Tracker('/home/julianzu/Analytics/Ultilitycs/test 08 may/models/bestfutbol.pt')\n",
    "\n",
    "\n",
    "#Assign player teams\n",
    "team_assigner = teamAssigner()\n",
    "team_assigner.assign_team_color(video_frames[0], tracks['players'][0])\n",
    "\n",
    "\n",
    "for frame_num, player_track in enumerate(tracks['players']):\n",
    "    for player_id, track in player_track.items():\n",
    "        team = team_assigner.get_player_team(video_frames[frame_num],\n",
    "                                             track['bbox'],\n",
    "                                             player_id)\n",
    "        \n",
    "        tracks['players'][frame_num][player_id]['team'] = team\n",
    "        tracks['players'][frame_num][player_id]['team_color'] = team_assigner.team_colors[team]\n",
    "\n",
    "\n",
    "\n",
    "\n",
    "# Save Cropped image of a player\n",
    "for track_id, player in tracks['players'][0].items():\n",
    "    bbox = player['bbox']\n",
    "    frame = video_frames[0]\n",
    "\n",
    "    #crop bbox from frame\n",
    "    cropped_image = frame[int(bbox[1]):int(bbox[3]), int(bbox[0]):int(bbox[2])]\n",
    "\n",
    "    #save the cropped image\n",
    "    cv2.imwrite(f'output_videos/crepped_imgage.jpg', cropped_image)\n",
    "\n",
    "    break\n",
    "\n",
    "\n",
    "tracks = tracker.get_object_tracks(video_frames, read_from_stub = True, stub_path = '/home/julianzu/Analytics/Ultilitycs/test 08 may/stubs/track_stubs.pkl' )\n",
    "\n",
    "#draw output\n",
    "## draw object tracks\n",
    "output_video_frames = tracker.draw_annotations(video_frames, tracks)\n",
    "\n",
    "#save Video:\n",
    "save_video(output_video_frames, '/home/julianzu/Analytics/Ultilitycs/test 08 may/output_videos/drone trimmed.avi')\n"
   ]
  },
  {
   "cell_type": "markdown",
   "metadata": {},
   "source": [
    "# Developement and Analysis"
   ]
  },
  {
   "cell_type": "markdown",
   "metadata": {},
   "source": [
    "## Color assignamet"
   ]
  },
  {
   "cell_type": "code",
   "execution_count": 25,
   "metadata": {},
   "outputs": [],
   "source": [
    "import matplotlib.pyplot as plt\n",
    "import numpy as np\n",
    "from sklearn.cluster import KMeans \n"
   ]
  },
  {
   "cell_type": "code",
   "execution_count": 16,
   "metadata": {},
   "outputs": [],
   "source": [
    "image_path = \"/home/julianzu/Analytics/Ultilitycs/test 08 may/output_videos/crepped_imgage.jpg\"\n",
    "image = cv2.imread(image_path)\n",
    "image = cv2.cvtColor(image, cv2.COLOR_BGR2RGB)\n"
   ]
  },
  {
   "cell_type": "code",
   "execution_count": 17,
   "metadata": {},
   "outputs": [
    {
     "data": {
      "image/png": "[encoded data removed]",
      "text/plain": [
       "<Figure size 640x480 with 1 Axes>"
      ]
     },
     "metadata": {},
     "output_type": "display_data"
    }
   ],
   "source": [
    "plt.imshow(image)\n",
    "plt.show()\n"
   ]
  },
  {
   "cell_type": "markdown",
   "metadata": {},
   "source": [
    "### Take the tophalf of the image"
   ]
  },
  {
   "cell_type": "code",
   "execution_count": 20,
   "metadata": {},
   "outputs": [
    {
     "data": {
      "image/png": "[encoded data removed]",
      "text/plain": [
       "<Figure size 640x480 with 1 Axes>"
      ]
     },
     "metadata": {},
     "output_type": "display_data"
    }
   ],
   "source": [
    "top_half_image = image[0: int(image.shape[0]/2), :]\n",
    "plt.imshow(top_half_image)\n",
    "plt.show()"
   ]
  },
  {
   "cell_type": "markdown",
   "metadata": {},
   "source": [
    "### Cluster the image into two clusters"
   ]
  },
  {
   "cell_type": "code",
   "execution_count": 35,
   "metadata": {},
   "outputs": [
    {
     "data": {
      "image/png": "[encoded data removed]",
      "text/plain": [
       "<Figure size 640x480 with 1 Axes>"
      ]
     },
     "metadata": {},
     "output_type": "display_data"
    }
   ],
   "source": [
    "# reshape the image into a 2d array\n",
    "image_2d = top_half_image.reshape(-1,3)\n",
    "\n",
    "#perform k - means clustering with two clusters\n",
    "kmeans = KMeans(n_clusters=2, random_state= 0)\n",
    "kmeans.fit(image_2d)\n",
    "\n",
    "# get the cluster labels:\n",
    "labels = kmeans.labels_\n",
    "\n",
    "#reshape the labels into the original image shape\n",
    "clustered_image = labels.reshape(top_half_image.shape[0], top_half_image.shape[1])\n",
    "\n",
    "#display the clustered image\n",
    "plt.imshow(clustered_image)\n",
    "plt.show()\n",
    "\n",
    "\n"
   ]
  },
  {
   "cell_type": "code",
   "execution_count": 36,
   "metadata": {},
   "outputs": [
    {
     "name": "stdout",
     "output_type": "stream",
     "text": [
      "0\n"
     ]
    }
   ],
   "source": [
    "corner_clusters = [clustered_image[0, 0], clustered_image[0,-1], clustered_image[-1, 0], clustered_image[-1, -1]]\n",
    "non_player_cluster = max(set(corner_clusters), key = corner_clusters.count)\n",
    "print(non_player_cluster)\n"
   ]
  },
  {
   "cell_type": "code",
   "execution_count": 37,
   "metadata": {},
   "outputs": [
    {
     "name": "stdout",
     "output_type": "stream",
     "text": [
      "1\n"
     ]
    }
   ],
   "source": [
    "player_cluster =1 - non_player_cluster\n",
    "print(player_cluster)"
   ]
  },
  {
   "cell_type": "code",
   "execution_count": 38,
   "metadata": {},
   "outputs": [
    {
     "data": {
      "text/plain": [
       "array([     58.367,      58.133,      74.933])"
      ]
     },
     "execution_count": 38,
     "metadata": {},
     "output_type": "execute_result"
    }
   ],
   "source": [
    "kmeans.cluster_centers_[player_cluster]"
   ]
  },
  {
   "cell_type": "markdown",
   "metadata": {},
   "source": [
    "## Team assigner\n"
   ]
  },
  {
   "cell_type": "code",
   "execution_count": 64,
   "metadata": {},
   "outputs": [],
   "source": [
    "class TeamAssigner:\n",
    "    def __init__(self):\n",
    "        self.team_colors = {}\n",
    "        self.player_team_dict = {}\n",
    "    \n",
    "    def get_clustering_model(self,image):\n",
    "        # Reshape the image to 2D array\n",
    "        image_2d = image.reshape(-1,3)\n",
    "\n",
    "        # Preform K-means with 2 clusters\n",
    "        kmeans = KMeans(n_clusters=2, init=\"k-means++\",n_init=1)\n",
    "        kmeans.fit(image_2d)\n",
    "\n",
    "        return kmeans\n",
    "\n",
    "    def get_player_color(self,frame,bbox):\n",
    "        image = frame[int(bbox[1]):int(bbox[3]),int(bbox[0]):int(bbox[2])]\n",
    "\n",
    "        top_half_image = image[0:int(image.shape[0]/2),:]\n",
    "\n",
    "        # Get Clustering model\n",
    "        kmeans = self.get_clustering_model(top_half_image)\n",
    "\n",
    "        # Get the cluster labels forr each pixel\n",
    "        labels = kmeans.labels_\n",
    "\n",
    "        # Reshape the labels to the image shape\n",
    "        clustered_image = labels.reshape(top_half_image.shape[0],top_half_image.shape[1])\n",
    "\n",
    "        # Get the player cluster\n",
    "        corner_clusters = [clustered_image[0,0],clustered_image[0,-1],clustered_image[-1,0],clustered_image[-1,-1]]\n",
    "        non_player_cluster = max(set(corner_clusters),key=corner_clusters.count)\n",
    "        player_cluster = 1 - non_player_cluster\n",
    "\n",
    "        player_color = kmeans.cluster_centers_[player_cluster]\n",
    "\n",
    "        return player_color\n",
    "\n",
    "\n",
    "    def assign_team_color(self,frame, player_detections):\n",
    "        \n",
    "        player_colors = []\n",
    "        for _, player_detection in player_detections.items():\n",
    "            bbox = player_detection[\"bbox\"]\n",
    "            player_color =  self.get_player_color(frame,bbox)\n",
    "            player_colors.append(player_color)\n",
    "        \n",
    "        kmeans = KMeans(n_clusters=2, init=\"k-means++\",n_init=10)\n",
    "        kmeans.fit(player_colors)\n",
    "\n",
    "        self.kmeans = kmeans\n",
    "\n",
    "        self.team_colors[1] = kmeans.cluster_centers_[0]\n",
    "        self.team_colors[2] = kmeans.cluster_centers_[1]\n",
    "\n",
    "\n",
    "    def get_player_team(self,frame,player_bbox,player_id):\n",
    "        if player_id in self.player_team_dict:\n",
    "            return self.player_team_dict[player_id]\n",
    "\n",
    "        player_color = self.get_player_color(frame,player_bbox)\n",
    "\n",
    "        team_id = self.kmeans.predict(player_color.reshape(1,-1))[0]\n",
    "        team_id+=1\n",
    "\n",
    "        if player_id ==91:\n",
    "            team_id=1\n",
    "\n",
    "        self.player_team_dict[player_id] = team_id\n",
    "\n",
    "        return team_id"
   ]
  },
  {
   "cell_type": "code",
   "execution_count": 60,
   "metadata": {},
   "outputs": [],
   "source": [
    "class teamAssigner:\n",
    "    def __init__(self):\n",
    "        self.team_colors = {}\n",
    "        self.player_team_dict = {}\n",
    "\n",
    "\n",
    "    def get_clustering_model(self, image):\n",
    "        # reshape the image to 2d array\n",
    "        image_2d = image.reshape(-1,3)\n",
    "\n",
    "        #preform k means with two clusters\n",
    "        kmeans = KMeans(n_clusters=2, init=\"k-means++\", n_init=1)\n",
    "        kmeans.fit(image_2d)\n",
    "\n",
    "        return kmeans\n",
    "\n",
    "\n",
    "    def get_player_color(self, frame, bbox):\n",
    "        image = frame[int(bbox[1]):int(bbox[3]),int(bbox[0]):int(bbox[2])]\n",
    "        \n",
    "        top_half_image = image[0:int(image.shape[0]/2),:]\n",
    "\n",
    "        #get clustering model\n",
    "        kmeans = self.get_clustering_model(top_half_image)\n",
    "\n",
    "        #get the cluster labels for each pixel\n",
    "        labels = kmeans.labels_\n",
    "\n",
    "        #reshape the labels to the image shape\n",
    "\n",
    "        clustered_image = labels.reshape(top_half_image.shape[0],top_half_image.shape[1])\n",
    "\n",
    "        #get the player cluster\n",
    "        corner_clusters = [clustered_image[0,0], clustered_image[0,-1], clustered_image[-1,0], clustered_image[-1,-1]]\n",
    "        non_player_cluster = max(set(corner_clusters), key= corner_clusters.count)\n",
    "        player_cluster = 1 - non_player_cluster\n",
    "\n",
    "        player_color = kmeans.cluster_centers_[player_cluster]\n",
    "\n",
    "        return player_color\n",
    "\n",
    "\n",
    "    def assign_team_color(self, frame, player_detections):\n",
    "        player_colors = []\n",
    "        for _, player_detection in player_detections.items():\n",
    "            bbox = player_detection['bbox']\n",
    "            player_color = self.get_player_color(frame, bbox)\n",
    "            player_colors.append(player_color)\n",
    "\n",
    "        kmeans = KMeans(n_clusters = 2, init = \"k-means++\", n_init =10)\n",
    "        kmeans.fit(player_colors)\n",
    "\n",
    "        self.kmeans = kmeans\n",
    "\n",
    "\n",
    "        self.team_colors[1] = kmeans.cluster_centers_[0]\n",
    "        self.team_colors[2] = kmeans.cluster_centers_[1]\n",
    "\n",
    "\n",
    "    def get_player_team(self, frame, player_bbox, player_id):\n",
    "        if player_id in self.player_team_dict:\n",
    "            return self.player_team_dict[player_id]\n",
    "        \n",
    "        player_color = self.get_player_color(frame, player_bbox)\n",
    "\n",
    "        team_id = self.kmeans.predict(player_color.reshape(1,-1))[0]\n",
    "        team_id += 1\n",
    "\n",
    "        self.player_team_dict[player_id] = team_id\n",
    "\n",
    "        return team_id"
   ]
  },
  {
   "cell_type": "code",
   "execution_count": null,
   "metadata": {},
   "outputs": [],
   "source": []
  }
 ],
 "metadata": {
  "kernelspec": {
   "display_name": "ComputerVision",
   "language": "python",
   "name": "python3"
  },
  "language_info": {
   "codemirror_mode": {
    "name": "ipython",
    "version": 3
   },
   "file_extension": ".py",
   "mimetype": "text/x-python",
   "name": "python",
   "nbconvert_exporter": "python",
   "pygments_lexer": "ipython3",
   "version": "3.11.5"
  }
 },
 "nbformat": 4,
 "nbformat_minor": 2
}
